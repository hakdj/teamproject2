{
  "nbformat": 4,
  "nbformat_minor": 0,
  "metadata": {
    "colab": {
      "name": "Untitled0.ipynb",
      "provenance": [],
      "collapsed_sections": [],
      "authorship_tag": "ABX9TyMb9bkBa1dCFBYuu0M07PsI",
      "include_colab_link": true
    },
    "kernelspec": {
      "name": "python3",
      "display_name": "Python 3"
    },
    "language_info": {
      "name": "python"
    }
  },
  "cells": [
    {
      "cell_type": "markdown",
      "metadata": {
        "id": "view-in-github",
        "colab_type": "text"
      },
      "source": [
        "<a href=\"https://colab.research.google.com/github/hakdj/teamproject2/blob/master/Untitled0.ipynb\" target=\"_parent\"><img src=\"https://colab.research.google.com/assets/colab-badge.svg\" alt=\"Open In Colab\"/></a>"
      ]
    },
    {
      "cell_type": "code",
      "metadata": {
        "id": "fAg4DL7h8kkH"
      },
      "source": [
        "import pandas as pd\n",
        "import numpy as np\n",
        "import openpyxl\n",
        "import xlrd"
      ],
      "execution_count": 1,
      "outputs": []
    },
    {
      "cell_type": "markdown",
      "metadata": {
        "id": "kZCkwRFd86aa"
      },
      "source": [
        "# 새 섹션"
      ]
    },
    {
      "cell_type": "code",
      "metadata": {
        "id": "Ceofe61a8nbN"
      },
      "source": [
        "data = pd.read_excel('./goms_filtered_.xlsx', engine='openpyxl') # 각자 경로로 바꾸기"
      ],
      "execution_count": 3,
      "outputs": []
    },
    {
      "cell_type": "code",
      "metadata": {
        "colab": {
          "base_uri": "https://localhost:8080/"
        },
        "id": "bPQDiNDz80MN",
        "outputId": "3f1afd20-4f35-4039-a1c5-de25d9589a33"
      },
      "source": [
        "data.isnull().sum()"
      ],
      "execution_count": 4,
      "outputs": [
        {
          "output_type": "execute_result",
          "data": {
            "text/plain": [
              "schoolType             0\n",
              "schoolType_str         0\n",
              "major                  0\n",
              "graduY                 0\n",
              "age                    0\n",
              "internExp           5471\n",
              "toeicScore         12757\n",
              "tospGrade          16976\n",
              "trainingHr         14182\n",
              "jobseekYN              0\n",
              "certNum             7813\n",
              "mainJobCate         4868\n",
              "mainJobCate_str     4868\n",
              "midJobCate          4868\n",
              "midJobCate_str      4868\n",
              "subJobCate          4868\n",
              "subJobCate_str      4868\n",
              "dtype: int64"
            ]
          },
          "metadata": {
            "tags": []
          },
          "execution_count": 4
        }
      ]
    },
    {
      "cell_type": "code",
      "metadata": {
        "id": "cMnpg2Ff9FBt"
      },
      "source": [
        "# 결측치 0으로 대체\n",
        "data = data.fillna(0)"
      ],
      "execution_count": 5,
      "outputs": []
    },
    {
      "cell_type": "code",
      "metadata": {
        "id": "VYj-IHEE9JKc"
      },
      "source": [
        "from sklearn.model_selection import train_test_split\n",
        "from sklearn.metrics import mean_squared_error\n",
        "from sklearn.ensemble import RandomForestRegressor"
      ],
      "execution_count": 6,
      "outputs": []
    },
    {
      "cell_type": "code",
      "metadata": {
        "id": "ldVYfLmO9K1M"
      },
      "source": [
        "data_main = data.drop(['schoolType_str','subJobCate', 'mainJobCate_str', 'midJobCate', 'midJobCate_str', 'subJobCate_str'],axis=1)"
      ],
      "execution_count": 13,
      "outputs": []
    },
    {
      "cell_type": "code",
      "metadata": {
        "colab": {
          "base_uri": "https://localhost:8080/"
        },
        "id": "npHY9t_S9L3k",
        "outputId": "56503446-a152-4092-ce9b-737b58f2c04f"
      },
      "source": [
        "X_ohe1 = pd.get_dummies(data_main, columns=['major'])\n",
        "y_main = X_ohe1['mainJobCate']\n",
        "x_main = X_ohe1.drop(['mainJobCate'],axis=1)\n",
        "\n",
        "X_train, X_test, y_train, y_test = train_test_split(x_main, y_main, test_size=0.3, random_state=0)\n",
        "rfr = RandomForestRegressor(max_depth = 3,random_state=12)\n",
        "rfr.fit(X_train, y_train)\n",
        "\n",
        "y_train_pred = rfr.predict(X_train)\n",
        "train_mse = mean_squared_error(y_train, y_train_pred)\n",
        "print(\"Train MSE: %.4f\" % train_mse)\n",
        "y_test_pred = rfr.predict(X_test)\n",
        "test_mse = mean_squared_error(y_test, y_test_pred)\n",
        "print(\"Test MSE: %.4f\" % test_mse)"
      ],
      "execution_count": 15,
      "outputs": [
        {
          "output_type": "stream",
          "text": [
            "Train MSE: 6.3319\n",
            "Test MSE: 6.4864\n"
          ],
          "name": "stdout"
        }
      ]
    },
    {
      "cell_type": "code",
      "metadata": {
        "id": "T-E47lk-9M2E"
      },
      "source": [
        "data_mid = data.drop(['schoolType_str','subJobCate', 'mainJobCate_str', 'mainJobCate', 'midJobCate_str', 'subJobCate_str'],axis=1)"
      ],
      "execution_count": 12,
      "outputs": []
    },
    {
      "cell_type": "code",
      "metadata": {
        "colab": {
          "base_uri": "https://localhost:8080/"
        },
        "id": "7VbPZziF9fy0",
        "outputId": "e9d5a3a3-e374-494e-e54e-93c9352b43c4"
      },
      "source": [
        "\n",
        "X_ohe2 = pd.get_dummies(data_mid, columns=['major'])\n",
        "y_mid = X_ohe2['midJobCate']\n",
        "x_mid = X_ohe2.drop(['midJobCate'],axis=1)\n",
        "\n",
        "X_train, X_test, y_train, y_test = train_test_split(x_mid, y_mid, test_size=0.3, random_state=0)\n",
        "rfr = RandomForestRegressor(max_depth = 3,random_state=12)\n",
        "rfr.fit(X_train, y_train)\n",
        "\n",
        "y_train_pred = rfr.predict(X_train)\n",
        "train_mse = mean_squared_error(y_train, y_train_pred)\n",
        "print(\"Train MSE: %.4f\" % train_mse)\n",
        "y_test_pred = rfr.predict(X_test)\n",
        "test_mse = mean_squared_error(y_test, y_test_pred)\n",
        "print(\"Test MSE: %.4f\" % test_mse)"
      ],
      "execution_count": 14,
      "outputs": [
        {
          "output_type": "stream",
          "text": [
            "Train MSE: 538.1987\n",
            "Test MSE: 552.0407\n"
          ],
          "name": "stdout"
        }
      ]
    },
    {
      "cell_type": "code",
      "metadata": {
        "id": "NlZces6l9mQr"
      },
      "source": [
        ""
      ],
      "execution_count": null,
      "outputs": []
    }
  ]
}